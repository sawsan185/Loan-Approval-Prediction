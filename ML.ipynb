{
 "cells": [
  {
   "cell_type": "code",
   "execution_count": null,
   "id": "b0854135",
   "metadata": {},
   "outputs": [],
   "source": [
    "import streamlit as st\n",
    "import pandas as pd\n",
    "import pickle\n",
    "from pymongo import MongoClient"
   ]
  },
  {
   "cell_type": "code",
   "execution_count": null,
   "id": "db2983d3",
   "metadata": {},
   "outputs": [],
   "source": [
    "# Connect to your MongoDB cluster\n",
    "client = MongoClient(\"localhost\", 27017)\n",
    "db = client.project  # Change 'your_database_name' to your actual database name\n",
    "collection = db.project  # Change 'your_collection_name' to your actual collection name"
   ]
  },
  {
   "cell_type": "code",
   "execution_count": null,
   "id": "ac85e832",
   "metadata": {
    "lines_to_next_cell": 1
   },
   "outputs": [],
   "source": [
    "# Load the pre-trained model (replace 'best_model.pkl' with your actual pickle file)\n",
    "with open('best_model.pkl', 'rb') as file:\n",
    "      model = pickle.load(file)"
   ]
  },
  {
   "cell_type": "code",
   "execution_count": null,
   "id": "3b63eff1",
   "metadata": {
    "lines_to_next_cell": 1
   },
   "outputs": [],
   "source": [
    "# Define functions for CRUD operations\n",
    "def insert_data_into_mongodb(data):\n",
    "      collection.insert_one(data)\n",
    "      st.success(\"Data inserted into MongoDB!\")"
   ]
  },
  {
   "cell_type": "code",
   "execution_count": null,
   "id": "1fcdd7be",
   "metadata": {
    "lines_to_next_cell": 1
   },
   "outputs": [],
   "source": [
    "def update_data_in_mongodb(filter_criteria, updated_data):\n",
    "      collection.update_one(filter_criteria, {'$set': updated_data})\n",
    "      st.success(\"Data updated in MongoDB!\")"
   ]
  },
  {
   "cell_type": "code",
   "execution_count": null,
   "id": "2ebb89df",
   "metadata": {
    "lines_to_next_cell": 1
   },
   "outputs": [],
   "source": [
    "def delete_data_from_mongodb(filter_criteria):\n",
    "      collection.delete_one(filter_criteria)\n",
    "      st.success(\"Data deleted from MongoDB!\")"
   ]
  },
  {
   "cell_type": "code",
   "execution_count": null,
   "id": "4b8af0f8",
   "metadata": {
    "lines_to_next_cell": 1
   },
   "outputs": [],
   "source": [
    "# Define the Streamlit app\n",
    "def main():\n",
    "      # Add custom CSS styles\n",
    "      st.markdown(\"\"\"\n",
    "      <style>\n",
    "      h1 {\n",
    "            color: #FF5733;\n",
    "      }\n",
    "      p {\n",
    "            color: #808080;\n",
    "      }\n",
    "      h3 {\n",
    "            color: #FF5733;\n",
    "      }\n",
    "      </style>\n",
    "      \"\"\", unsafe_allow_html=True)\n",
    "\n",
    "      st.markdown(\"<h1>Loan Approval Prediction</h1>\", unsafe_allow_html=True)\n",
    "      st.markdown(\"<p>This web app predicts loan approval based on applicant details.</p>\", unsafe_allow_html=True)\n",
    "\n",
    "      st.markdown(\"<h3>App Description</h3>\", unsafe_allow_html=True)\n",
    "      st.markdown(\"<p>This web app uses a pre-trained machine learning model to predict whether a loan application will be approved or not. It takes various applicant details as input and provides the prediction as output.</p>\", unsafe_allow_html=True)\n",
    "\n",
    "      st.markdown(\"<h3>Enter Applicant Details</h3>\", unsafe_allow_html=True)\n",
    "      with st.form(\"applicant_details\"):\n",
    "            col1, col2 = st.columns([3, 1])\n",
    "            applicant_income = st.number_input('Applicant Income')\n",
    "            coapplicant_income = st.number_input('Coapplicant Income')\n",
    "            loan_amount_term = st.number_input('Loan Amount Term')\n",
    "            credit_history = st.number_input('Credit History')\n",
    "            loan_amount = st.number_input('Loan Amount')\n",
    "\n",
    "            gender = st.selectbox('Gender', ['Male', 'Female'])\n",
    "            married = st.selectbox('Marital Status', ['Yes', 'No'])\n",
    "            dependents = st.selectbox('Number of Dependents', ['0', '1', '2', '3+'])\n",
    "            education = st.selectbox('Education', ['Graduate', 'Not Graduate'])\n",
    "            self_employed = st.selectbox('Self Employed', ['Yes', 'No'])\n",
    "            property_area = st.selectbox('Property Area', ['Urban', 'Semiurban', 'Rural'])\n",
    "\n",
    "            gender_val = 1 if gender == 'Male' else 0\n",
    "            married_val = 1 if married == 'Yes' else 0\n",
    "            dependents_val = int(dependents[0]) if dependents != '3+' else 3\n",
    "            education_val = 1 if education == 'Not Graduate' else 0\n",
    "            self_employed_val = 1 if self_employed == 'Yes' else 0\n",
    "            property_area_val = 1 if property_area == 'Semiurban' else (2 if property_area == 'Urban' else 0)\n",
    "\n",
    "            # Create a dictionary from user inputs\n",
    "            input_data = {\n",
    "                  'ApplicantIncome': applicant_income,\n",
    "                  'CoapplicantIncome': coapplicant_income,\n",
    "                  'Loan_Amount_Term': loan_amount_term,\n",
    "                  'Credit_History': credit_history,\n",
    "                  'LoanAmount': loan_amount,\n",
    "                  'Gender_Male': gender_val,\n",
    "                  'Married_Yes': married_val,\n",
    "                  'Dependents_1': 1 if dependents_val == 1 else 0,\n",
    "                  'Dependents_2': 1 if dependents_val == 2 else 0,\n",
    "                  'Dependents_3+': 1 if dependents_val == 3 else 0,\n",
    "                  'Education_Not Graduate': education_val,\n",
    "                  'Self_Employed_Yes': self_employed_val,\n",
    "                  'Property_Area_Semiurban': 1 if property_area_val == 1 else 0,\n",
    "                  'Property_Area_Urban': 1 if property_area_val == 2 else 0\n",
    "            }\n",
    "\n",
    "            # Prepare input data as a DataFrame for prediction\n",
    "            input_df = pd.DataFrame([input_data])\n",
    "\n",
    "            if st.form_submit_button('Predict'):\n",
    "                  prediction = model.predict(input_df)\n",
    "                  st.success(f'Prediction: {prediction[0]}')\n",
    "\n",
    "      # Buttons for CRUD operations\n",
    "      st.markdown(\"<h3>Actions</h3>\", unsafe_allow_html=True)\n",
    "      col1, col2, col3 = st.columns(3)\n",
    "      with col1:\n",
    "            if st.button('Create', key='create_button'):\n",
    "                  insert_data_into_mongodb(input_data)\n",
    "      with col2:\n",
    "            if st.button('Update', key='update_button'):\n",
    "                  filter_criteria = {}  # Define your filter criteria\n",
    "                  updated_data = {}  # Define your updated data\n",
    "                  update_data_in_mongodb(filter_criteria, updated_data)\n",
    "      with col3:\n",
    "            if st.button('Delete', key='delete_button'):\n",
    "                  filter_criteria = {}  # Define your filter criteria\n",
    "                  delete_data_from_mongodb(filter_criteria)"
   ]
  },
  {
   "cell_type": "code",
   "execution_count": null,
   "id": "5bd8f79a",
   "metadata": {},
   "outputs": [],
   "source": [
    "if __name__ == '__main__':\n",
    "      main()"
   ]
  }
 ],
 "metadata": {
  "jupytext": {
   "cell_metadata_filter": "-all",
   "main_language": "python",
   "notebook_metadata_filter": "-all"
  }
 },
 "nbformat": 4,
 "nbformat_minor": 5
}
